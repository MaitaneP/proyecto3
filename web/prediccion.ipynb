{
 "cells": [
  {
   "cell_type": "code",
   "execution_count": 1,
   "metadata": {},
   "outputs": [],
   "source": [
    "import requests\n",
    "import streamlit as st\n",
    "# from streamlit_lottie import st_lottie\n",
    "import pandas as pd\n",
    "import numpy as np\n",
    "import pickle \n",
    "from pandas.tseries.holiday import USFederalHolidayCalendar as calendar\n",
    "from datetime import datetime \n"
   ]
  },
  {
   "cell_type": "code",
   "execution_count": 2,
   "metadata": {},
   "outputs": [],
   "source": [
    "fecha = '2023-05-25'\n",
    "temperatura = 20.4\n",
    "humedad = 65.5\n",
    "viento = 25.3"
   ]
  },
  {
   "cell_type": "code",
   "execution_count": 3,
   "metadata": {},
   "outputs": [
    {
     "data": {
      "text/html": [
       "<div>\n",
       "<style scoped>\n",
       "    .dataframe tbody tr th:only-of-type {\n",
       "        vertical-align: middle;\n",
       "    }\n",
       "\n",
       "    .dataframe tbody tr th {\n",
       "        vertical-align: top;\n",
       "    }\n",
       "\n",
       "    .dataframe thead th {\n",
       "        text-align: right;\n",
       "    }\n",
       "</style>\n",
       "<table border=\"1\" class=\"dataframe\">\n",
       "  <thead>\n",
       "    <tr style=\"text-align: right;\">\n",
       "      <th></th>\n",
       "      <th>date</th>\n",
       "      <th>temp</th>\n",
       "      <th>hum</th>\n",
       "      <th>windspeed</th>\n",
       "    </tr>\n",
       "  </thead>\n",
       "  <tbody>\n",
       "    <tr>\n",
       "      <th>0</th>\n",
       "      <td>2023-05-25</td>\n",
       "      <td>20.4</td>\n",
       "      <td>65.5</td>\n",
       "      <td>25.3</td>\n",
       "    </tr>\n",
       "  </tbody>\n",
       "</table>\n",
       "</div>"
      ],
      "text/plain": [
       "         date  temp   hum  windspeed\n",
       "0  2023-05-25  20.4  65.5       25.3"
      ]
     },
     "execution_count": 3,
     "metadata": {},
     "output_type": "execute_result"
    }
   ],
   "source": [
    "nuevo_dato = {'date': fecha, 'temp': temperatura, 'hum': humedad, 'windspeed': viento}\n",
    "df = pd.DataFrame(nuevo_dato, index=[0])\n",
    "df.sample()"
   ]
  },
  {
   "cell_type": "code",
   "execution_count": 4,
   "metadata": {},
   "outputs": [
    {
     "name": "stdout",
     "output_type": "stream",
     "text": [
      "<class 'pandas.core.frame.DataFrame'>\n",
      "Int64Index: 1 entries, 0 to 0\n",
      "Data columns (total 4 columns):\n",
      " #   Column     Non-Null Count  Dtype  \n",
      "---  ------     --------------  -----  \n",
      " 0   date       1 non-null      object \n",
      " 1   temp       1 non-null      float64\n",
      " 2   hum        1 non-null      float64\n",
      " 3   windspeed  1 non-null      float64\n",
      "dtypes: float64(3), object(1)\n",
      "memory usage: 40.0+ bytes\n"
     ]
    }
   ],
   "source": [
    "df.info()"
   ]
  },
  {
   "cell_type": "code",
   "execution_count": 5,
   "metadata": {},
   "outputs": [],
   "source": [
    "df['date'] = pd.to_datetime(df['date'])"
   ]
  },
  {
   "cell_type": "code",
   "execution_count": 6,
   "metadata": {},
   "outputs": [
    {
     "name": "stdout",
     "output_type": "stream",
     "text": [
      "<class 'pandas.core.frame.DataFrame'>\n",
      "Int64Index: 1 entries, 0 to 0\n",
      "Data columns (total 4 columns):\n",
      " #   Column     Non-Null Count  Dtype         \n",
      "---  ------     --------------  -----         \n",
      " 0   date       1 non-null      datetime64[ns]\n",
      " 1   temp       1 non-null      float64       \n",
      " 2   hum        1 non-null      float64       \n",
      " 3   windspeed  1 non-null      float64       \n",
      "dtypes: datetime64[ns](1), float64(3)\n",
      "memory usage: 40.0 bytes\n"
     ]
    }
   ],
   "source": [
    "df.info()"
   ]
  },
  {
   "cell_type": "code",
   "execution_count": 7,
   "metadata": {},
   "outputs": [
    {
     "data": {
      "text/html": [
       "<div>\n",
       "<style scoped>\n",
       "    .dataframe tbody tr th:only-of-type {\n",
       "        vertical-align: middle;\n",
       "    }\n",
       "\n",
       "    .dataframe tbody tr th {\n",
       "        vertical-align: top;\n",
       "    }\n",
       "\n",
       "    .dataframe thead th {\n",
       "        text-align: right;\n",
       "    }\n",
       "</style>\n",
       "<table border=\"1\" class=\"dataframe\">\n",
       "  <thead>\n",
       "    <tr style=\"text-align: right;\">\n",
       "      <th></th>\n",
       "      <th>date</th>\n",
       "      <th>temp</th>\n",
       "      <th>hum</th>\n",
       "      <th>windspeed</th>\n",
       "      <th>year</th>\n",
       "    </tr>\n",
       "  </thead>\n",
       "  <tbody>\n",
       "    <tr>\n",
       "      <th>0</th>\n",
       "      <td>2023-05-25</td>\n",
       "      <td>20.4</td>\n",
       "      <td>65.5</td>\n",
       "      <td>25.3</td>\n",
       "      <td>2023</td>\n",
       "    </tr>\n",
       "  </tbody>\n",
       "</table>\n",
       "</div>"
      ],
      "text/plain": [
       "        date  temp   hum  windspeed  year\n",
       "0 2023-05-25  20.4  65.5       25.3  2023"
      ]
     },
     "execution_count": 7,
     "metadata": {},
     "output_type": "execute_result"
    }
   ],
   "source": [
    "df['year'] = df['date'].dt.year\n",
    "df.sample()"
   ]
  },
  {
   "cell_type": "code",
   "execution_count": 45,
   "metadata": {},
   "outputs": [
    {
     "data": {
      "text/plain": [
       "2023"
      ]
     },
     "execution_count": 45,
     "metadata": {},
     "output_type": "execute_result"
    }
   ],
   "source": [
    "año_func = df['date'].dt.year[0]\n",
    "año_func"
   ]
  },
  {
   "cell_type": "code",
   "execution_count": 8,
   "metadata": {},
   "outputs": [
    {
     "data": {
      "text/html": [
       "<div>\n",
       "<style scoped>\n",
       "    .dataframe tbody tr th:only-of-type {\n",
       "        vertical-align: middle;\n",
       "    }\n",
       "\n",
       "    .dataframe tbody tr th {\n",
       "        vertical-align: top;\n",
       "    }\n",
       "\n",
       "    .dataframe thead th {\n",
       "        text-align: right;\n",
       "    }\n",
       "</style>\n",
       "<table border=\"1\" class=\"dataframe\">\n",
       "  <thead>\n",
       "    <tr style=\"text-align: right;\">\n",
       "      <th></th>\n",
       "      <th>date</th>\n",
       "      <th>temp</th>\n",
       "      <th>hum</th>\n",
       "      <th>windspeed</th>\n",
       "      <th>year</th>\n",
       "      <th>month</th>\n",
       "    </tr>\n",
       "  </thead>\n",
       "  <tbody>\n",
       "    <tr>\n",
       "      <th>0</th>\n",
       "      <td>2023-05-25</td>\n",
       "      <td>20.4</td>\n",
       "      <td>65.5</td>\n",
       "      <td>25.3</td>\n",
       "      <td>2023</td>\n",
       "      <td>5</td>\n",
       "    </tr>\n",
       "  </tbody>\n",
       "</table>\n",
       "</div>"
      ],
      "text/plain": [
       "        date  temp   hum  windspeed  year  month\n",
       "0 2023-05-25  20.4  65.5       25.3  2023      5"
      ]
     },
     "execution_count": 8,
     "metadata": {},
     "output_type": "execute_result"
    }
   ],
   "source": [
    "df['month'] = df['date'].dt.month\n",
    "df.sample()"
   ]
  },
  {
   "cell_type": "code",
   "execution_count": 9,
   "metadata": {},
   "outputs": [
    {
     "data": {
      "text/html": [
       "<div>\n",
       "<style scoped>\n",
       "    .dataframe tbody tr th:only-of-type {\n",
       "        vertical-align: middle;\n",
       "    }\n",
       "\n",
       "    .dataframe tbody tr th {\n",
       "        vertical-align: top;\n",
       "    }\n",
       "\n",
       "    .dataframe thead th {\n",
       "        text-align: right;\n",
       "    }\n",
       "</style>\n",
       "<table border=\"1\" class=\"dataframe\">\n",
       "  <thead>\n",
       "    <tr style=\"text-align: right;\">\n",
       "      <th></th>\n",
       "      <th>date</th>\n",
       "      <th>temp</th>\n",
       "      <th>hum</th>\n",
       "      <th>windspeed</th>\n",
       "      <th>year</th>\n",
       "      <th>month</th>\n",
       "      <th>weekday</th>\n",
       "    </tr>\n",
       "  </thead>\n",
       "  <tbody>\n",
       "    <tr>\n",
       "      <th>0</th>\n",
       "      <td>2023-05-25</td>\n",
       "      <td>20.4</td>\n",
       "      <td>65.5</td>\n",
       "      <td>25.3</td>\n",
       "      <td>2023</td>\n",
       "      <td>5</td>\n",
       "      <td>Thursday</td>\n",
       "    </tr>\n",
       "  </tbody>\n",
       "</table>\n",
       "</div>"
      ],
      "text/plain": [
       "        date  temp   hum  windspeed  year  month   weekday\n",
       "0 2023-05-25  20.4  65.5       25.3  2023      5  Thursday"
      ]
     },
     "execution_count": 9,
     "metadata": {},
     "output_type": "execute_result"
    }
   ],
   "source": [
    "df[\"weekday\"]= df[\"date\"].dt.day_name()\n",
    "df.sample()"
   ]
  },
  {
   "cell_type": "code",
   "execution_count": 10,
   "metadata": {},
   "outputs": [
    {
     "data": {
      "text/html": [
       "<div>\n",
       "<style scoped>\n",
       "    .dataframe tbody tr th:only-of-type {\n",
       "        vertical-align: middle;\n",
       "    }\n",
       "\n",
       "    .dataframe tbody tr th {\n",
       "        vertical-align: top;\n",
       "    }\n",
       "\n",
       "    .dataframe thead th {\n",
       "        text-align: right;\n",
       "    }\n",
       "</style>\n",
       "<table border=\"1\" class=\"dataframe\">\n",
       "  <thead>\n",
       "    <tr style=\"text-align: right;\">\n",
       "      <th></th>\n",
       "      <th>date</th>\n",
       "      <th>temp</th>\n",
       "      <th>hum</th>\n",
       "      <th>windspeed</th>\n",
       "      <th>year</th>\n",
       "      <th>month</th>\n",
       "      <th>weekday</th>\n",
       "      <th>holiday</th>\n",
       "    </tr>\n",
       "  </thead>\n",
       "  <tbody>\n",
       "    <tr>\n",
       "      <th>0</th>\n",
       "      <td>2023-05-25</td>\n",
       "      <td>20.4</td>\n",
       "      <td>65.5</td>\n",
       "      <td>25.3</td>\n",
       "      <td>2023</td>\n",
       "      <td>5</td>\n",
       "      <td>Thursday</td>\n",
       "      <td>False</td>\n",
       "    </tr>\n",
       "  </tbody>\n",
       "</table>\n",
       "</div>"
      ],
      "text/plain": [
       "        date  temp   hum  windspeed  year  month   weekday  holiday\n",
       "0 2023-05-25  20.4  65.5       25.3  2023      5  Thursday    False"
      ]
     },
     "execution_count": 10,
     "metadata": {},
     "output_type": "execute_result"
    }
   ],
   "source": [
    "cal = calendar() #llamada al calendario\n",
    "holidays = cal.holidays(start=df['date'].min(), end=df['date'].max())\n",
    "df['holiday'] = df['date'].isin(holidays)\n",
    "df.sample()"
   ]
  },
  {
   "cell_type": "code",
   "execution_count": 11,
   "metadata": {},
   "outputs": [],
   "source": [
    "mapa = {True: 'holiday', False: 'not holiday'}\n",
    "df['holiday'] = df['holiday'].map(mapa)"
   ]
  },
  {
   "cell_type": "code",
   "execution_count": 12,
   "metadata": {},
   "outputs": [
    {
     "data": {
      "text/html": [
       "<div>\n",
       "<style scoped>\n",
       "    .dataframe tbody tr th:only-of-type {\n",
       "        vertical-align: middle;\n",
       "    }\n",
       "\n",
       "    .dataframe tbody tr th {\n",
       "        vertical-align: top;\n",
       "    }\n",
       "\n",
       "    .dataframe thead th {\n",
       "        text-align: right;\n",
       "    }\n",
       "</style>\n",
       "<table border=\"1\" class=\"dataframe\">\n",
       "  <thead>\n",
       "    <tr style=\"text-align: right;\">\n",
       "      <th></th>\n",
       "      <th>date</th>\n",
       "      <th>temp</th>\n",
       "      <th>hum</th>\n",
       "      <th>windspeed</th>\n",
       "      <th>year</th>\n",
       "      <th>month</th>\n",
       "      <th>weekday</th>\n",
       "      <th>holiday</th>\n",
       "    </tr>\n",
       "  </thead>\n",
       "  <tbody>\n",
       "    <tr>\n",
       "      <th>0</th>\n",
       "      <td>2023-05-25</td>\n",
       "      <td>20.4</td>\n",
       "      <td>65.5</td>\n",
       "      <td>25.3</td>\n",
       "      <td>2023</td>\n",
       "      <td>5</td>\n",
       "      <td>Thursday</td>\n",
       "      <td>not holiday</td>\n",
       "    </tr>\n",
       "  </tbody>\n",
       "</table>\n",
       "</div>"
      ],
      "text/plain": [
       "        date  temp   hum  windspeed  year  month   weekday      holiday\n",
       "0 2023-05-25  20.4  65.5       25.3  2023      5  Thursday  not holiday"
      ]
     },
     "execution_count": 12,
     "metadata": {},
     "output_type": "execute_result"
    }
   ],
   "source": [
    "df"
   ]
  },
  {
   "cell_type": "code",
   "execution_count": 13,
   "metadata": {},
   "outputs": [],
   "source": [
    "def laborables(dato):\n",
    "    laborables = pd.date_range(start= fecha, end=fecha, freq='B')\n",
    "    if dato in laborables:\n",
    "        return 'workingday'\n",
    "    else:\n",
    "        return 'weekend or holiday'"
   ]
  },
  {
   "cell_type": "code",
   "execution_count": 14,
   "metadata": {},
   "outputs": [
    {
     "data": {
      "text/html": [
       "<div>\n",
       "<style scoped>\n",
       "    .dataframe tbody tr th:only-of-type {\n",
       "        vertical-align: middle;\n",
       "    }\n",
       "\n",
       "    .dataframe tbody tr th {\n",
       "        vertical-align: top;\n",
       "    }\n",
       "\n",
       "    .dataframe thead th {\n",
       "        text-align: right;\n",
       "    }\n",
       "</style>\n",
       "<table border=\"1\" class=\"dataframe\">\n",
       "  <thead>\n",
       "    <tr style=\"text-align: right;\">\n",
       "      <th></th>\n",
       "      <th>date</th>\n",
       "      <th>temp</th>\n",
       "      <th>hum</th>\n",
       "      <th>windspeed</th>\n",
       "      <th>year</th>\n",
       "      <th>month</th>\n",
       "      <th>weekday</th>\n",
       "      <th>holiday</th>\n",
       "      <th>workingday</th>\n",
       "    </tr>\n",
       "  </thead>\n",
       "  <tbody>\n",
       "    <tr>\n",
       "      <th>0</th>\n",
       "      <td>2023-05-25</td>\n",
       "      <td>20.4</td>\n",
       "      <td>65.5</td>\n",
       "      <td>25.3</td>\n",
       "      <td>2023</td>\n",
       "      <td>5</td>\n",
       "      <td>Thursday</td>\n",
       "      <td>not holiday</td>\n",
       "      <td>workingday</td>\n",
       "    </tr>\n",
       "  </tbody>\n",
       "</table>\n",
       "</div>"
      ],
      "text/plain": [
       "        date  temp   hum  windspeed  year  month   weekday      holiday  \\\n",
       "0 2023-05-25  20.4  65.5       25.3  2023      5  Thursday  not holiday   \n",
       "\n",
       "   workingday  \n",
       "0  workingday  "
      ]
     },
     "execution_count": 14,
     "metadata": {},
     "output_type": "execute_result"
    }
   ],
   "source": [
    "df['workingday'] = df['date'].apply(laborables)\n",
    "df"
   ]
  },
  {
   "cell_type": "code",
   "execution_count": 15,
   "metadata": {},
   "outputs": [
    {
     "data": {
      "text/html": [
       "<div>\n",
       "<style scoped>\n",
       "    .dataframe tbody tr th:only-of-type {\n",
       "        vertical-align: middle;\n",
       "    }\n",
       "\n",
       "    .dataframe tbody tr th {\n",
       "        vertical-align: top;\n",
       "    }\n",
       "\n",
       "    .dataframe thead th {\n",
       "        text-align: right;\n",
       "    }\n",
       "</style>\n",
       "<table border=\"1\" class=\"dataframe\">\n",
       "  <thead>\n",
       "    <tr style=\"text-align: right;\">\n",
       "      <th></th>\n",
       "      <th>date</th>\n",
       "      <th>temp</th>\n",
       "      <th>hum</th>\n",
       "      <th>windspeed</th>\n",
       "      <th>year</th>\n",
       "      <th>month</th>\n",
       "      <th>weekday</th>\n",
       "      <th>holiday</th>\n",
       "      <th>workingday</th>\n",
       "    </tr>\n",
       "  </thead>\n",
       "  <tbody>\n",
       "    <tr>\n",
       "      <th>0</th>\n",
       "      <td>2023-05-25</td>\n",
       "      <td>20.4</td>\n",
       "      <td>65.5</td>\n",
       "      <td>25.3</td>\n",
       "      <td>2023</td>\n",
       "      <td>5</td>\n",
       "      <td>Thursday</td>\n",
       "      <td>not holiday</td>\n",
       "      <td>workingday</td>\n",
       "    </tr>\n",
       "  </tbody>\n",
       "</table>\n",
       "</div>"
      ],
      "text/plain": [
       "        date  temp   hum  windspeed  year  month   weekday      holiday  \\\n",
       "0 2023-05-25  20.4  65.5       25.3  2023      5  Thursday  not holiday   \n",
       "\n",
       "   workingday  \n",
       "0  workingday  "
      ]
     },
     "execution_count": 15,
     "metadata": {},
     "output_type": "execute_result"
    }
   ],
   "source": [
    "df.loc[df[\"holiday\"] == 'holiday', \"workingday\"] = 'weekend or holiday'\n",
    "df"
   ]
  },
  {
   "cell_type": "code",
   "execution_count": 16,
   "metadata": {},
   "outputs": [
    {
     "data": {
      "text/plain": [
       "2023"
      ]
     },
     "execution_count": 16,
     "metadata": {},
     "output_type": "execute_result"
    }
   ],
   "source": [
    "df.loc[0,'year']"
   ]
  },
  {
   "cell_type": "code",
   "execution_count": 17,
   "metadata": {},
   "outputs": [
    {
     "data": {
      "text/plain": [
       "2023"
      ]
     },
     "execution_count": 17,
     "metadata": {},
     "output_type": "execute_result"
    }
   ],
   "source": [
    "año_func = int(fecha[:4])\n",
    "año_func"
   ]
  },
  {
   "cell_type": "code",
   "execution_count": 18,
   "metadata": {},
   "outputs": [],
   "source": [
    "def estaciones(dato):\n",
    "    año_func = int(dato[:4])\n",
    "    primavera = pd.date_range(start= f'{año_func}-03-21', end=f'{año_func}-06-21')\n",
    "    verano = pd.date_range(start= f'{año_func}-06-22', end=f'{año_func}-09-22')\n",
    "    otoño = pd.date_range(start= f'{año_func}-09-23', end=f'{año_func}-12-21')\n",
    "    # invierno = pd.date_range(start= f'{año_func}-12-22', end=f'{año_func+1}-03-20')\n",
    "\n",
    "    if dato in primavera:\n",
    "        return 'spring'\n",
    "    elif dato in verano:\n",
    "        return 'summer'\n",
    "    elif dato in otoño:\n",
    "        return 'autumn'\n",
    "    else:\n",
    "        return 'winter'"
   ]
  },
  {
   "cell_type": "code",
   "execution_count": 19,
   "metadata": {},
   "outputs": [
    {
     "data": {
      "text/html": [
       "<div>\n",
       "<style scoped>\n",
       "    .dataframe tbody tr th:only-of-type {\n",
       "        vertical-align: middle;\n",
       "    }\n",
       "\n",
       "    .dataframe tbody tr th {\n",
       "        vertical-align: top;\n",
       "    }\n",
       "\n",
       "    .dataframe thead th {\n",
       "        text-align: right;\n",
       "    }\n",
       "</style>\n",
       "<table border=\"1\" class=\"dataframe\">\n",
       "  <thead>\n",
       "    <tr style=\"text-align: right;\">\n",
       "      <th></th>\n",
       "      <th>date</th>\n",
       "      <th>temp</th>\n",
       "      <th>hum</th>\n",
       "      <th>windspeed</th>\n",
       "      <th>year</th>\n",
       "      <th>month</th>\n",
       "      <th>weekday</th>\n",
       "      <th>holiday</th>\n",
       "      <th>workingday</th>\n",
       "      <th>season</th>\n",
       "    </tr>\n",
       "  </thead>\n",
       "  <tbody>\n",
       "    <tr>\n",
       "      <th>0</th>\n",
       "      <td>2023-05-25</td>\n",
       "      <td>20.4</td>\n",
       "      <td>65.5</td>\n",
       "      <td>25.3</td>\n",
       "      <td>2023</td>\n",
       "      <td>5</td>\n",
       "      <td>Thursday</td>\n",
       "      <td>not holiday</td>\n",
       "      <td>workingday</td>\n",
       "      <td>spring</td>\n",
       "    </tr>\n",
       "  </tbody>\n",
       "</table>\n",
       "</div>"
      ],
      "text/plain": [
       "        date  temp   hum  windspeed  year  month   weekday      holiday  \\\n",
       "0 2023-05-25  20.4  65.5       25.3  2023      5  Thursday  not holiday   \n",
       "\n",
       "   workingday  season  \n",
       "0  workingday  spring  "
      ]
     },
     "execution_count": 19,
     "metadata": {},
     "output_type": "execute_result"
    }
   ],
   "source": [
    "df['season'] = estaciones(fecha)\n",
    "df"
   ]
  },
  {
   "cell_type": "code",
   "execution_count": 20,
   "metadata": {},
   "outputs": [
    {
     "name": "stdout",
     "output_type": "stream",
     "text": [
      "<class 'pandas.core.frame.DataFrame'>\n",
      "Int64Index: 1 entries, 0 to 0\n",
      "Data columns (total 10 columns):\n",
      " #   Column      Non-Null Count  Dtype         \n",
      "---  ------      --------------  -----         \n",
      " 0   date        1 non-null      datetime64[ns]\n",
      " 1   temp        1 non-null      float64       \n",
      " 2   hum         1 non-null      float64       \n",
      " 3   windspeed   1 non-null      float64       \n",
      " 4   year        1 non-null      int64         \n",
      " 5   month       1 non-null      int64         \n",
      " 6   weekday     1 non-null      object        \n",
      " 7   holiday     1 non-null      object        \n",
      " 8   workingday  1 non-null      object        \n",
      " 9   season      1 non-null      object        \n",
      "dtypes: datetime64[ns](1), float64(3), int64(2), object(4)\n",
      "memory usage: 196.0+ bytes\n"
     ]
    }
   ],
   "source": [
    "df.info()"
   ]
  },
  {
   "cell_type": "code",
   "execution_count": 21,
   "metadata": {},
   "outputs": [
    {
     "data": {
      "text/html": [
       "<div>\n",
       "<style scoped>\n",
       "    .dataframe tbody tr th:only-of-type {\n",
       "        vertical-align: middle;\n",
       "    }\n",
       "\n",
       "    .dataframe tbody tr th {\n",
       "        vertical-align: top;\n",
       "    }\n",
       "\n",
       "    .dataframe thead th {\n",
       "        text-align: right;\n",
       "    }\n",
       "</style>\n",
       "<table border=\"1\" class=\"dataframe\">\n",
       "  <thead>\n",
       "    <tr style=\"text-align: right;\">\n",
       "      <th></th>\n",
       "      <th>temp</th>\n",
       "      <th>hum</th>\n",
       "      <th>windspeed</th>\n",
       "    </tr>\n",
       "  </thead>\n",
       "  <tbody>\n",
       "    <tr>\n",
       "      <th>0</th>\n",
       "      <td>20.4</td>\n",
       "      <td>65.5</td>\n",
       "      <td>25.3</td>\n",
       "    </tr>\n",
       "  </tbody>\n",
       "</table>\n",
       "</div>"
      ],
      "text/plain": [
       "   temp   hum  windspeed\n",
       "0  20.4  65.5       25.3"
      ]
     },
     "execution_count": 21,
     "metadata": {},
     "output_type": "execute_result"
    }
   ],
   "source": [
    "numericas = df.select_dtypes(include=np.number).drop(['year', 'month'], axis= 1)\n",
    "numericas"
   ]
  },
  {
   "cell_type": "code",
   "execution_count": 22,
   "metadata": {},
   "outputs": [],
   "source": [
    "with open(\"../datos/robust.pkl\", \"rb\") as modelo:\n",
    "    robust = pickle.load(modelo)"
   ]
  },
  {
   "cell_type": "code",
   "execution_count": 23,
   "metadata": {},
   "outputs": [],
   "source": [
    "x_robust = robust.transform(numericas)"
   ]
  },
  {
   "cell_type": "code",
   "execution_count": 24,
   "metadata": {},
   "outputs": [],
   "source": [
    "numericas_robust = pd.DataFrame(x_robust, columns=numericas.columns)"
   ]
  },
  {
   "cell_type": "code",
   "execution_count": 25,
   "metadata": {},
   "outputs": [
    {
     "data": {
      "text/html": [
       "<div>\n",
       "<style scoped>\n",
       "    .dataframe tbody tr th:only-of-type {\n",
       "        vertical-align: middle;\n",
       "    }\n",
       "\n",
       "    .dataframe tbody tr th {\n",
       "        vertical-align: top;\n",
       "    }\n",
       "\n",
       "    .dataframe thead th {\n",
       "        text-align: right;\n",
       "    }\n",
       "</style>\n",
       "<table border=\"1\" class=\"dataframe\">\n",
       "  <thead>\n",
       "    <tr style=\"text-align: right;\">\n",
       "      <th></th>\n",
       "      <th>date</th>\n",
       "      <th>temp</th>\n",
       "      <th>hum</th>\n",
       "      <th>windspeed</th>\n",
       "      <th>year</th>\n",
       "      <th>month</th>\n",
       "      <th>weekday</th>\n",
       "      <th>holiday</th>\n",
       "      <th>workingday</th>\n",
       "      <th>season</th>\n",
       "    </tr>\n",
       "  </thead>\n",
       "  <tbody>\n",
       "    <tr>\n",
       "      <th>0</th>\n",
       "      <td>2023-05-25</td>\n",
       "      <td>-0.005037</td>\n",
       "      <td>0.136973</td>\n",
       "      <td>2.001032</td>\n",
       "      <td>2023</td>\n",
       "      <td>5</td>\n",
       "      <td>Thursday</td>\n",
       "      <td>not holiday</td>\n",
       "      <td>workingday</td>\n",
       "      <td>spring</td>\n",
       "    </tr>\n",
       "  </tbody>\n",
       "</table>\n",
       "</div>"
      ],
      "text/plain": [
       "        date      temp       hum  windspeed  year  month   weekday  \\\n",
       "0 2023-05-25 -0.005037  0.136973   2.001032  2023      5  Thursday   \n",
       "\n",
       "       holiday  workingday  season  \n",
       "0  not holiday  workingday  spring  "
      ]
     },
     "execution_count": 25,
     "metadata": {},
     "output_type": "execute_result"
    }
   ],
   "source": [
    "df[numericas_robust.columns] = numericas_robust\n",
    "df"
   ]
  },
  {
   "cell_type": "code",
   "execution_count": 26,
   "metadata": {},
   "outputs": [],
   "source": [
    "def año_binario(dato):\n",
    "    if dato <=2018:\n",
    "        return 0\n",
    "    else:\n",
    "        return 1"
   ]
  },
  {
   "cell_type": "code",
   "execution_count": 27,
   "metadata": {},
   "outputs": [
    {
     "data": {
      "text/html": [
       "<div>\n",
       "<style scoped>\n",
       "    .dataframe tbody tr th:only-of-type {\n",
       "        vertical-align: middle;\n",
       "    }\n",
       "\n",
       "    .dataframe tbody tr th {\n",
       "        vertical-align: top;\n",
       "    }\n",
       "\n",
       "    .dataframe thead th {\n",
       "        text-align: right;\n",
       "    }\n",
       "</style>\n",
       "<table border=\"1\" class=\"dataframe\">\n",
       "  <thead>\n",
       "    <tr style=\"text-align: right;\">\n",
       "      <th></th>\n",
       "      <th>date</th>\n",
       "      <th>temp</th>\n",
       "      <th>hum</th>\n",
       "      <th>windspeed</th>\n",
       "      <th>year</th>\n",
       "      <th>month</th>\n",
       "      <th>weekday</th>\n",
       "      <th>holiday</th>\n",
       "      <th>workingday</th>\n",
       "      <th>season</th>\n",
       "    </tr>\n",
       "  </thead>\n",
       "  <tbody>\n",
       "    <tr>\n",
       "      <th>0</th>\n",
       "      <td>2023-05-25</td>\n",
       "      <td>-0.005037</td>\n",
       "      <td>0.136973</td>\n",
       "      <td>2.001032</td>\n",
       "      <td>1</td>\n",
       "      <td>5</td>\n",
       "      <td>Thursday</td>\n",
       "      <td>not holiday</td>\n",
       "      <td>workingday</td>\n",
       "      <td>spring</td>\n",
       "    </tr>\n",
       "  </tbody>\n",
       "</table>\n",
       "</div>"
      ],
      "text/plain": [
       "        date      temp       hum  windspeed  year  month   weekday  \\\n",
       "0 2023-05-25 -0.005037  0.136973   2.001032     1      5  Thursday   \n",
       "\n",
       "       holiday  workingday  season  \n",
       "0  not holiday  workingday  spring  "
      ]
     },
     "execution_count": 27,
     "metadata": {},
     "output_type": "execute_result"
    }
   ],
   "source": [
    "df['year'] = df['year'].apply(año_binario)\n",
    "df"
   ]
  },
  {
   "cell_type": "code",
   "execution_count": 28,
   "metadata": {},
   "outputs": [],
   "source": [
    "mapa_wd_casual = {'weekend or holiday': 1.0258019525801954, 'workingday': 0.9923291492329149}\n",
    "# mapa_wd_registered = {'weekend or holiday': 1.0152817574021011, 'workingday': 0.9914040114613181}\n",
    "\n",
    "# mapa_se_casual = {'autumn': 0.7475592747559274, 'spring': 1.203626220362622, 'summer': 1.4665271966527196, 'winter': 0.30613668061366806}\n",
    "mapa_se_registered = {'autumn': 1.039432391867922, 'spring': 1.053759039432392, 'summer': 1.1217082821667348, 'winter': 0.5063446582071224}\n",
    "\n",
    "# mapa_hol_casual = {'holiday': 1.7245467224546722, 'not holiday': 0.9923291492329149}\n",
    "# mapa_hol_registered = {'holiday': 0.7571292127166053, 'not holiday': 1.0081866557511256}\n",
    "\n",
    "mapa_day_casual = {'Monday': 2.0, 'Thursday': 0.8765690376569037, 'Wednesday': 0.9295676429567643, 'Tuesday': 1.3695955369595536, 'Friday': 0.7496513249651325, 'Saturday': 0.8507670850767085, 'Sunday': 1.2224546722454672}\n",
    "mapa_day_registered = {'Monday': 4.291492329149233, 'Thursday': 5.652022315202231, 'Wednesday': 5.160390516039052, 'Tuesday': 4.089260808926081, 'Friday': 5.527894002789401, 'Saturday': 5.347977684797769, 'Sunday': 5.182008368200837}\n",
    "\n",
    "# mapa_month_casual = {1: 0.17642956764295675, 2: 0.2824267782426778, 3: 0.7092050209205021, 4: 1.1610878661087867, 5: 1.2370990237099024, 6: 1.3507670850767086, 7: 1.4574616457461647, 8: 1.5495118549511855, 9: 1.3528591352859136, 10: 1.0760111576011158, 11: 0.6262203626220363, 12: 0.40794979079497906}\n",
    "mapa_month_registered = {1: 2.311715481171548, 2: 2.822873082287308, 3: 3.273361227336123, 4: 4.735704323570432, 5: 5.416317991631799, 6: 6.079497907949791, 7: 5.5864714086471405, 8: 5.741283124128312, 9: 5.804741980474198, 10: 5.598326359832636, 11: 5.225244072524407, 12: 4.400278940027894}\n",
    "\n",
    "mapa_yr_casual = {0: 0.8563458856345886, 1: 1.2622036262203626}\n",
    "mapa_yr_registered = {0: 0.7954700504843771, 1: 1.3071360349297312}\n"
   ]
  },
  {
   "cell_type": "code",
   "execution_count": 29,
   "metadata": {},
   "outputs": [
    {
     "data": {
      "text/plain": [
       "Index(['date', 'temp', 'hum', 'windspeed', 'year', 'month', 'weekday',\n",
       "       'holiday', 'workingday', 'season'],\n",
       "      dtype='object')"
      ]
     },
     "execution_count": 29,
     "metadata": {},
     "output_type": "execute_result"
    }
   ],
   "source": [
    "df.columns"
   ]
  },
  {
   "cell_type": "code",
   "execution_count": 30,
   "metadata": {},
   "outputs": [
    {
     "data": {
      "text/html": [
       "<div>\n",
       "<style scoped>\n",
       "    .dataframe tbody tr th:only-of-type {\n",
       "        vertical-align: middle;\n",
       "    }\n",
       "\n",
       "    .dataframe tbody tr th {\n",
       "        vertical-align: top;\n",
       "    }\n",
       "\n",
       "    .dataframe thead th {\n",
       "        text-align: right;\n",
       "    }\n",
       "</style>\n",
       "<table border=\"1\" class=\"dataframe\">\n",
       "  <thead>\n",
       "    <tr style=\"text-align: right;\">\n",
       "      <th></th>\n",
       "      <th>year</th>\n",
       "      <th>weekday</th>\n",
       "      <th>workingday</th>\n",
       "      <th>temp</th>\n",
       "      <th>hum</th>\n",
       "      <th>windspeed</th>\n",
       "    </tr>\n",
       "  </thead>\n",
       "  <tbody>\n",
       "    <tr>\n",
       "      <th>0</th>\n",
       "      <td>1</td>\n",
       "      <td>Thursday</td>\n",
       "      <td>workingday</td>\n",
       "      <td>-0.005037</td>\n",
       "      <td>0.136973</td>\n",
       "      <td>2.001032</td>\n",
       "    </tr>\n",
       "  </tbody>\n",
       "</table>\n",
       "</div>"
      ],
      "text/plain": [
       "   year   weekday  workingday      temp       hum  windspeed\n",
       "0     1  Thursday  workingday -0.005037  0.136973   2.001032"
      ]
     },
     "execution_count": 30,
     "metadata": {},
     "output_type": "execute_result"
    }
   ],
   "source": [
    "df_casual = df.filter(['year', 'weekday', 'workingday', 'temp', 'hum', 'windspeed'], axis=1)\n",
    "df_casual"
   ]
  },
  {
   "cell_type": "code",
   "execution_count": 31,
   "metadata": {},
   "outputs": [
    {
     "data": {
      "text/html": [
       "<div>\n",
       "<style scoped>\n",
       "    .dataframe tbody tr th:only-of-type {\n",
       "        vertical-align: middle;\n",
       "    }\n",
       "\n",
       "    .dataframe tbody tr th {\n",
       "        vertical-align: top;\n",
       "    }\n",
       "\n",
       "    .dataframe thead th {\n",
       "        text-align: right;\n",
       "    }\n",
       "</style>\n",
       "<table border=\"1\" class=\"dataframe\">\n",
       "  <thead>\n",
       "    <tr style=\"text-align: right;\">\n",
       "      <th></th>\n",
       "      <th>season</th>\n",
       "      <th>year</th>\n",
       "      <th>month</th>\n",
       "      <th>weekday</th>\n",
       "      <th>temp</th>\n",
       "      <th>hum</th>\n",
       "    </tr>\n",
       "  </thead>\n",
       "  <tbody>\n",
       "    <tr>\n",
       "      <th>0</th>\n",
       "      <td>spring</td>\n",
       "      <td>1</td>\n",
       "      <td>5</td>\n",
       "      <td>Thursday</td>\n",
       "      <td>-0.005037</td>\n",
       "      <td>0.136973</td>\n",
       "    </tr>\n",
       "  </tbody>\n",
       "</table>\n",
       "</div>"
      ],
      "text/plain": [
       "   season  year  month   weekday      temp       hum\n",
       "0  spring     1      5  Thursday -0.005037  0.136973"
      ]
     },
     "execution_count": 31,
     "metadata": {},
     "output_type": "execute_result"
    }
   ],
   "source": [
    "df_registered = df.filter(['season', 'year', 'month', 'weekday', 'temp', 'hum'], axis=1)\n",
    "df_registered"
   ]
  },
  {
   "cell_type": "code",
   "execution_count": 32,
   "metadata": {},
   "outputs": [],
   "source": [
    "df_casual['year'] = df_casual['year'].map(mapa_yr_casual)\n",
    "df_registered['year'] = df_registered['year'].map(mapa_yr_registered)\n",
    "df_casual['weekday'] = df_casual['weekday'].map(mapa_day_casual)\n",
    "df_registered['weekday'] = df_registered['weekday'].map(mapa_day_registered)\n",
    "df_casual['workingday'] = df_casual['workingday'].map(mapa_wd_casual)\n",
    "df_registered['season'] = df_registered['season'].map(mapa_se_registered)\n",
    "df_registered['month'] = df_registered['month'].map(mapa_month_registered)"
   ]
  },
  {
   "cell_type": "code",
   "execution_count": 33,
   "metadata": {},
   "outputs": [
    {
     "data": {
      "text/html": [
       "<div>\n",
       "<style scoped>\n",
       "    .dataframe tbody tr th:only-of-type {\n",
       "        vertical-align: middle;\n",
       "    }\n",
       "\n",
       "    .dataframe tbody tr th {\n",
       "        vertical-align: top;\n",
       "    }\n",
       "\n",
       "    .dataframe thead th {\n",
       "        text-align: right;\n",
       "    }\n",
       "</style>\n",
       "<table border=\"1\" class=\"dataframe\">\n",
       "  <thead>\n",
       "    <tr style=\"text-align: right;\">\n",
       "      <th></th>\n",
       "      <th>year</th>\n",
       "      <th>weekday</th>\n",
       "      <th>workingday</th>\n",
       "      <th>temp</th>\n",
       "      <th>hum</th>\n",
       "      <th>windspeed</th>\n",
       "    </tr>\n",
       "  </thead>\n",
       "  <tbody>\n",
       "    <tr>\n",
       "      <th>0</th>\n",
       "      <td>1.262204</td>\n",
       "      <td>0.876569</td>\n",
       "      <td>0.992329</td>\n",
       "      <td>-0.005037</td>\n",
       "      <td>0.136973</td>\n",
       "      <td>2.001032</td>\n",
       "    </tr>\n",
       "  </tbody>\n",
       "</table>\n",
       "</div>"
      ],
      "text/plain": [
       "       year   weekday  workingday      temp       hum  windspeed\n",
       "0  1.262204  0.876569    0.992329 -0.005037  0.136973   2.001032"
      ]
     },
     "execution_count": 33,
     "metadata": {},
     "output_type": "execute_result"
    }
   ],
   "source": [
    "df_casual"
   ]
  },
  {
   "cell_type": "code",
   "execution_count": 34,
   "metadata": {},
   "outputs": [
    {
     "data": {
      "text/html": [
       "<div>\n",
       "<style scoped>\n",
       "    .dataframe tbody tr th:only-of-type {\n",
       "        vertical-align: middle;\n",
       "    }\n",
       "\n",
       "    .dataframe tbody tr th {\n",
       "        vertical-align: top;\n",
       "    }\n",
       "\n",
       "    .dataframe thead th {\n",
       "        text-align: right;\n",
       "    }\n",
       "</style>\n",
       "<table border=\"1\" class=\"dataframe\">\n",
       "  <thead>\n",
       "    <tr style=\"text-align: right;\">\n",
       "      <th></th>\n",
       "      <th>season</th>\n",
       "      <th>year</th>\n",
       "      <th>month</th>\n",
       "      <th>weekday</th>\n",
       "      <th>temp</th>\n",
       "      <th>hum</th>\n",
       "    </tr>\n",
       "  </thead>\n",
       "  <tbody>\n",
       "    <tr>\n",
       "      <th>0</th>\n",
       "      <td>1.053759</td>\n",
       "      <td>1.307136</td>\n",
       "      <td>5.416318</td>\n",
       "      <td>5.652022</td>\n",
       "      <td>-0.005037</td>\n",
       "      <td>0.136973</td>\n",
       "    </tr>\n",
       "  </tbody>\n",
       "</table>\n",
       "</div>"
      ],
      "text/plain": [
       "     season      year     month   weekday      temp       hum\n",
       "0  1.053759  1.307136  5.416318  5.652022 -0.005037  0.136973"
      ]
     },
     "execution_count": 34,
     "metadata": {},
     "output_type": "execute_result"
    }
   ],
   "source": [
    "df_registered"
   ]
  },
  {
   "cell_type": "code",
   "execution_count": 35,
   "metadata": {},
   "outputs": [],
   "source": [
    "with open(\"../datos/mejor_modelo_casual.pkl\", \"rb\") as modelo_cas:\n",
    "    mejor_modelo_casual = pickle.load(modelo_cas)\n",
    "with open(\"../datos/mejor_modelo_registered.pkl\", \"rb\") as modelo_reg:\n",
    "    mejor_modelo_registered = pickle.load(modelo_reg)"
   ]
  },
  {
   "cell_type": "code",
   "execution_count": 36,
   "metadata": {},
   "outputs": [
    {
     "data": {
      "text/plain": [
       "array([752.42810202])"
      ]
     },
     "execution_count": 36,
     "metadata": {},
     "output_type": "execute_result"
    }
   ],
   "source": [
    "conteo_casual = mejor_modelo_casual.predict(df_casual)\n",
    "conteo_casual"
   ]
  },
  {
   "cell_type": "code",
   "execution_count": 37,
   "metadata": {},
   "outputs": [
    {
     "data": {
      "text/plain": [
       "array([5585.16882433])"
      ]
     },
     "execution_count": 37,
     "metadata": {},
     "output_type": "execute_result"
    }
   ],
   "source": [
    "conteo_registered = mejor_modelo_registered.predict(df_registered)\n",
    "conteo_registered"
   ]
  },
  {
   "cell_type": "code",
   "execution_count": 38,
   "metadata": {},
   "outputs": [],
   "source": [
    "rmse_casual = 322\n",
    "rmse_registered = 540"
   ]
  },
  {
   "cell_type": "code",
   "execution_count": 39,
   "metadata": {},
   "outputs": [
    {
     "name": "stdout",
     "output_type": "stream",
     "text": [
      "The estimated number of rental bikes for 2023-05-25 for casual users would be between: 430 - 1074. The model estimates: 752.\n",
      "The estimated number of rental bikes for 2023-05-25 for registered users would be between: 5045 - 6125. The model estimates: 5585.\n"
     ]
    }
   ],
   "source": [
    "print(f'The estimated number of rental bikes for {fecha} for casual users would be between: {round(conteo_casual[0]-rmse_casual)} - {round(conteo_casual[0]+rmse_casual)}. The model estimates: {round(conteo_casual[0])}.')\n",
    "print(f'The estimated number of rental bikes for {fecha} for registered users would be between: {round(conteo_registered[0]-rmse_registered)} - {round(conteo_registered[0]+rmse_registered)}. The model estimates: {round(conteo_registered[0])}.')"
   ]
  },
  {
   "cell_type": "code",
   "execution_count": 40,
   "metadata": {},
   "outputs": [],
   "source": [
    "def predictor_bicis(date, temperature, humidity, windspeed):\n",
    "    # creamos el df\n",
    "    nuevo_dato = {'date': date, 'temp': float(temperature), 'hum': float(humidity), 'windspeed': float(windspeed)}\n",
    "    df = pd.DataFrame(nuevo_dato, index=[0])\n",
    "    # pasamos la columna a formato datetime\n",
    "    df['date'] = pd.to_datetime(df['date'])\n",
    "    #creamos la columna year\n",
    "    df['year'] = df['date'].dt.year\n",
    "    #creamos la columna month\n",
    "    df['month'] = df['date'].dt.month\n",
    "    # creamos la columna weekday\n",
    "    df[\"weekday\"]= df[\"date\"].dt.day_name()\n",
    "    # comprobamos si es festivo\n",
    "    cal = calendar() #llamada al calendario\n",
    "    holidays = cal.holidays(start=df['date'].min(), end=df['date'].max()) # sacamos el listado de festivos\n",
    "    df['holiday'] = df['date'].isin(holidays) # comprobamos si en la lista de festivos están nuestras fechas\n",
    "    mapa = {True: 'holiday', False: 'not holiday'} # cambiamos el resultado con un map\n",
    "    df['holiday'] = df['holiday'].map(mapa)\n",
    "    # creamos la columna de workingday\n",
    "    laborables = pd.date_range(start= date, end=date, freq='B')\n",
    "    if date in laborables:\n",
    "        df['workingday'] = 'workingday'\n",
    "    else:\n",
    "        df['workingday'] = 'weekend or holiday'\n",
    "    # función para obtener season\n",
    "    año_func = int(date[:4])\n",
    "    primavera = pd.date_range(start= f'{año_func}-03-21', end=f'{año_func}-06-21')\n",
    "    verano = pd.date_range(start= f'{año_func}-06-22', end=f'{año_func}-09-22')\n",
    "    otoño = pd.date_range(start= f'{año_func}-09-23', end=f'{año_func}-12-21')\n",
    "    # invierno = pd.date_range(start= f'{año_func}-12-22', end=f'{año_func+1}-03-20')\n",
    "    if date in primavera:\n",
    "        df['season'] = 'spring'\n",
    "    elif date in verano:\n",
    "        df['season'] = 'summer'\n",
    "    elif date in otoño:\n",
    "        df['season'] = 'autumn'\n",
    "    else:\n",
    "        df['season'] = 'winter'\n",
    "    # estandarizacion\n",
    "    numericas = df.select_dtypes(include=np.number).drop(['year', 'month'], axis= 1)\n",
    "    with open(\"../datos/robust.pkl\", \"rb\") as modelo:\n",
    "        robust = pickle.load(modelo)\n",
    "    x_robust = robust.transform(numericas)\n",
    "    numericas_robust = pd.DataFrame(x_robust, columns=numericas.columns)\n",
    "    df[numericas_robust.columns] = numericas_robust\n",
    "    # apañamos el año\n",
    "    if df.loc[0, 'year'] <=2018:\n",
    "        df['year'] = 0\n",
    "    else:\n",
    "        df['year'] = 1\n",
    "    # mapas para el encoding\n",
    "    mapa_wd_casual = {'weekend or holiday': 1.0258019525801954, 'workingday': 0.9923291492329149}\n",
    "    # mapa_wd_registered = {'weekend or holiday': 1.0152817574021011, 'workingday': 0.9914040114613181}\n",
    "    # mapa_se_casual = {'autumn': 0.7475592747559274, 'spring': 1.203626220362622, 'summer': 1.4665271966527196, 'winter': 0.30613668061366806}\n",
    "    mapa_se_registered = {'autumn': 1.039432391867922, 'spring': 1.053759039432392, 'summer': 1.1217082821667348, 'winter': 0.5063446582071224}\n",
    "    # mapa_hol_casual = {'holiday': 1.7245467224546722, 'not holiday': 0.9923291492329149}\n",
    "    # mapa_hol_registered = {'holiday': 0.7571292127166053, 'not holiday': 1.0081866557511256}\n",
    "    mapa_day_casual = {'Monday': 2.0, 'Thursday': 0.8765690376569037, 'Wednesday': 0.9295676429567643, 'Tuesday': 1.3695955369595536, 'Friday': 0.7496513249651325, 'Saturday': 0.8507670850767085, 'Sunday': 1.2224546722454672}\n",
    "    mapa_day_registered = {'Monday': 4.291492329149233, 'Thursday': 5.652022315202231, 'Wednesday': 5.160390516039052, 'Tuesday': 4.089260808926081, 'Friday': 5.527894002789401, 'Saturday': 5.347977684797769, 'Sunday': 5.182008368200837}\n",
    "    # mapa_month_casual = {1: 0.17642956764295675, 2: 0.2824267782426778, 3: 0.7092050209205021, 4: 1.1610878661087867, 5: 1.2370990237099024, 6: 1.3507670850767086, 7: 1.4574616457461647, 8: 1.5495118549511855, 9: 1.3528591352859136, 10: 1.0760111576011158, 11: 0.6262203626220363, 12: 0.40794979079497906}\n",
    "    mapa_month_registered = {1: 2.311715481171548, 2: 2.822873082287308, 3: 3.273361227336123, 4: 4.735704323570432, 5: 5.416317991631799, 6: 6.079497907949791, 7: 5.5864714086471405, 8: 5.741283124128312, 9: 5.804741980474198, 10: 5.598326359832636, 11: 5.225244072524407, 12: 4.400278940027894}\n",
    "    mapa_yr_casual = {0: 0.8563458856345886, 1: 1.2622036262203626}\n",
    "    mapa_yr_registered = {0: 0.7954700504843771, 1: 1.3071360349297312}\n",
    "    # creamos los df de casual y registered\n",
    "    df_casual = df.filter(['year', 'weekday', 'workingday', 'temp', 'hum', 'windspeed'], axis=1)\n",
    "    df_registered = df.filter(['season', 'year', 'month', 'weekday', 'temp', 'hum'], axis=1)\n",
    "    # encoding\n",
    "    df_casual['year'] = df_casual['year'].map(mapa_yr_casual)\n",
    "    df_registered['year'] = df_registered['year'].map(mapa_yr_registered)\n",
    "    df_casual['weekday'] = df_casual['weekday'].map(mapa_day_casual)\n",
    "    df_registered['weekday'] = df_registered['weekday'].map(mapa_day_registered)\n",
    "    df_casual['workingday'] = df_casual['workingday'].map(mapa_wd_casual)\n",
    "    df_registered['season'] = df_registered['season'].map(mapa_se_registered)\n",
    "    df_registered['month'] = df_registered['month'].map(mapa_month_registered)\n",
    "    # abrimos los modelos\n",
    "    with open(\"../datos/mejor_modelo_casual.pkl\", \"rb\") as modelo_cas:\n",
    "        mejor_modelo_casual = pickle.load(modelo_cas)\n",
    "    with open(\"../datos/mejor_modelo_registered.pkl\", \"rb\") as modelo_reg:\n",
    "        mejor_modelo_registered = pickle.load(modelo_reg)\n",
    "    # realizamos las predicciones\n",
    "    conteo_casual = mejor_modelo_casual.predict(df_casual)\n",
    "    conteo_registered = mejor_modelo_registered.predict(df_registered)\n",
    "    rmse_casual = 322.167752\n",
    "    rmse_registered = 540.794549\n",
    "    cas_min = round(conteo_casual[0] - rmse_casual)\n",
    "    cas_max = round(conteo_casual[0] + rmse_casual)\n",
    "    reg_min = round(conteo_registered[0] - rmse_registered)\n",
    "    reg_max = round(conteo_registered[0] + rmse_registered)\n",
    "    return round(conteo_casual[0]), cas_min, cas_max, round(conteo_registered[0]), reg_min, reg_max\n"
   ]
  },
  {
   "cell_type": "code",
   "execution_count": 41,
   "metadata": {},
   "outputs": [],
   "source": [
    "fecha = '2023-05-25'\n",
    "temperatura = '20.4'\n",
    "humedad = '65.5'\n",
    "viento = '25.3'"
   ]
  },
  {
   "cell_type": "code",
   "execution_count": 42,
   "metadata": {},
   "outputs": [],
   "source": [
    "casual_pred, casual_min, casual_max, regist_pred, regist_min, regist_max = predictor_bicis(fecha, temperatura, humedad, viento)"
   ]
  },
  {
   "cell_type": "code",
   "execution_count": 43,
   "metadata": {},
   "outputs": [
    {
     "name": "stdout",
     "output_type": "stream",
     "text": [
      "The estimated number of rental bikes for 2023-05-25 for casual users would be between: 430 - 1075. The model estimates: 752.\n",
      "The estimated number of rental bikes for 2023-05-25 for registered users would be between: 5044 - 6126. The model estimates: 5585.\n"
     ]
    }
   ],
   "source": [
    "print(f'The estimated number of rental bikes for {fecha} for casual users would be between: {casual_min} - {casual_max}. The model estimates: {casual_pred}.')\n",
    "print(f'The estimated number of rental bikes for {fecha} for registered users would be between: {regist_min} - {regist_max}. The model estimates: {regist_pred}.')"
   ]
  },
  {
   "cell_type": "code",
   "execution_count": 44,
   "metadata": {},
   "outputs": [
    {
     "data": {
      "text/html": [
       "<div>\n",
       "<style scoped>\n",
       "    .dataframe tbody tr th:only-of-type {\n",
       "        vertical-align: middle;\n",
       "    }\n",
       "\n",
       "    .dataframe tbody tr th {\n",
       "        vertical-align: top;\n",
       "    }\n",
       "\n",
       "    .dataframe thead th {\n",
       "        text-align: right;\n",
       "    }\n",
       "</style>\n",
       "<table border=\"1\" class=\"dataframe\">\n",
       "  <thead>\n",
       "    <tr style=\"text-align: right;\">\n",
       "      <th></th>\n",
       "      <th>User type</th>\n",
       "      <th>Estimated value</th>\n",
       "      <th>Probable min</th>\n",
       "      <th>Probable max</th>\n",
       "    </tr>\n",
       "  </thead>\n",
       "  <tbody>\n",
       "    <tr>\n",
       "      <th>0</th>\n",
       "      <td>casual</td>\n",
       "      <td>752</td>\n",
       "      <td>430</td>\n",
       "      <td>1075</td>\n",
       "    </tr>\n",
       "    <tr>\n",
       "      <th>1</th>\n",
       "      <td>registered</td>\n",
       "      <td>5585</td>\n",
       "      <td>5044</td>\n",
       "      <td>6126</td>\n",
       "    </tr>\n",
       "  </tbody>\n",
       "</table>\n",
       "</div>"
      ],
      "text/plain": [
       "    User type  Estimated value  Probable min  Probable max\n",
       "0      casual              752           430          1075\n",
       "1  registered             5585          5044          6126"
      ]
     },
     "execution_count": 44,
     "metadata": {},
     "output_type": "execute_result"
    }
   ],
   "source": [
    "df2 = pd.DataFrame({'User type':['casual', 'registered'], 'Estimated value':[casual_pred, regist_pred], 'Probable min':[casual_min, regist_min], 'Probable max':[casual_max, regist_max]}, index = [0, 1])\n",
    "df2"
   ]
  }
 ],
 "metadata": {
  "kernelspec": {
   "display_name": "adalabenv",
   "language": "python",
   "name": "python3"
  },
  "language_info": {
   "codemirror_mode": {
    "name": "ipython",
    "version": 3
   },
   "file_extension": ".py",
   "mimetype": "text/x-python",
   "name": "python",
   "nbconvert_exporter": "python",
   "pygments_lexer": "ipython3",
   "version": "3.10.9"
  },
  "orig_nbformat": 4
 },
 "nbformat": 4,
 "nbformat_minor": 2
}
